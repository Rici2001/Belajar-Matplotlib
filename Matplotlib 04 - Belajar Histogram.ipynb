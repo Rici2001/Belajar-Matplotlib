{
 "cells": [
  {
   "cell_type": "markdown",
   "metadata": {},
   "source": [
    "## Histogram"
   ]
  },
  {
   "cell_type": "markdown",
   "metadata": {},
   "source": [
    "## Import Modules\n",
    "-Pertama kita akan memasukan beberapa modules penting yang akan kita gunakan sebelum memulai ketahap selanjutnya\n",
    "\n",
    "-kita akan memasukan majic komen yaitu %matplotlib inline berfungsi untuk mendirek hasil output nantinya ataub bisa di bilang hasil matplotlib akan di tampilkan di jupyter notebook\n",
    "\n",
    "-Dan kita juga mengimport 2 modul yaitu matplotlib dan numpy"
   ]
  },
  {
   "cell_type": "code",
   "execution_count": 1,
   "metadata": {},
   "outputs": [],
   "source": [
    "%matplotlib inline"
   ]
  },
  {
   "cell_type": "code",
   "execution_count": 2,
   "metadata": {},
   "outputs": [],
   "source": [
    "import matplotlib \n",
    "import matplotlib.pyplot as plt\n",
    "import numpy as np"
   ]
  },
  {
   "cell_type": "markdown",
   "metadata": {},
   "source": [
    "#Setelah itu kita akan mengecheck versi dari matplotlib dan numpy yang kita gunakan saat ini"
   ]
  },
  {
   "cell_type": "code",
   "execution_count": 3,
   "metadata": {},
   "outputs": [
    {
     "name": "stdout",
     "output_type": "stream",
     "text": [
      "3.3.2\n",
      "1.19.2\n"
     ]
    }
   ],
   "source": [
    "print(matplotlib.__version__)\n",
    "print(np.__version__)"
   ]
  },
  {
   "cell_type": "markdown",
   "metadata": {},
   "source": [
    "## Sample Data\n",
    "\n",
    "-Menyiapkan 2 buah variabel ( mu dan sigma )\n",
    "\n",
    "-Variabel mu digunakan untuk mempresentasi nilai mean \n",
    "\n",
    "-Variabel sigma digunakan untuk mempresentasi nilai standard deviation\n",
    "\n",
    "-dan juga menggunakan fungsi np.randn untuk menghasilkan angka acak yang membentuk distribusi normal"
   ]
  },
  {
   "cell_type": "code",
   "execution_count": 5,
   "metadata": {},
   "outputs": [
    {
     "data": {
      "text/plain": [
       "array([ 95.13929119, 102.9836492 , 115.41455483, ...,  98.79685837,\n",
       "       104.71935433,  89.78532574])"
      ]
     },
     "execution_count": 5,
     "metadata": {},
     "output_type": "execute_result"
    }
   ],
   "source": [
    "mu, sigma = 100, 15\n",
    "\n",
    "x = mu + sigma * np.random.randn(10000)\n",
    "x"
   ]
  },
  {
   "cell_type": "code",
   "execution_count": 6,
   "metadata": {},
   "outputs": [
    {
     "data": {
      "text/plain": [
       "(10000,)"
      ]
     },
     "execution_count": 6,
     "metadata": {},
     "output_type": "execute_result"
    }
   ],
   "source": [
    "x.shape"
   ]
  },
  {
   "cell_type": "markdown",
   "metadata": {},
   "source": [
    "## Histogram dengan pyplot Style\n",
    "\n",
    "-panggil plt.hist dan menyertakan 2 buah parameter\n",
    "\n",
    "-bins digunakan untuk menentukan jumlah klasifikasi data \n",
    "dari 10000 data menjadi 50 kelompok data\n",
    "\n",
    "-facecolor 'g' menunjukan warna yang ingin kita gunakan yaitu green (hijau)\n",
    "\n",
    "-alpha digunakan untuk untuk mengatur transparant dari objek "
   ]
  },
  {
   "cell_type": "code",
   "execution_count": 7,
   "metadata": {},
   "outputs": [
    {
     "data": {
      "image/png": "[encoded data removed]",
      "text/plain": [
       "<Figure size 432x288 with 1 Axes>"
      ]
     },
     "metadata": {
      "needs_background": "light"
     },
     "output_type": "display_data"
    }
   ],
   "source": [
    "plt.hist(x,\n",
    "         bins=50,\n",
    "         facecolor='g',\n",
    "         alpha=0.75)\n",
    "\n",
    "plt.xlabel('Sumbu X')\n",
    "plt.ylabel('Sumbu Y')\n",
    "plt.title('Contoh Histogram')\n",
    "\n",
    "plt.text(45, 500, r'$\\mu=100,\\ \\sigma=15$')\n",
    "plt.grid()\n",
    "\n",
    "plt.show()"
   ]
  },
  {
   "cell_type": "markdown",
   "metadata": {},
   "source": [
    "## Histogram dengan OO Style\n",
    "\n",
    "-Menyediakan 2 buah variabel  (figure dan axes)\n",
    "\n",
    "-bins digunakan untuk menentukan jumlah klasifikasi data dari 10000 data menjadi 50 kelompok data\n",
    "\n",
    "-facecolor 'g' menunjukan warna yang ingin kita gunakan yaitu green (hijau)\n",
    "\n",
    "-alpha digunakan untuk untuk mengatur transparant dari objek"
   ]
  },
  {
   "cell_type": "code",
   "execution_count": 13,
   "metadata": {},
   "outputs": [
    {
     "data": {
      "image/png": "[encoded data removed]",
      "text/plain": [
       "<Figure size 432x288 with 1 Axes>"
      ]
     },
     "metadata": {
      "needs_background": "light"
     },
     "output_type": "display_data"
    }
   ],
   "source": [
    "fig, ax = plt.subplots()\n",
    "\n",
    "ax.hist(x,\n",
    "        bins=50,\n",
    "        facecolor='r',\n",
    "        alpha=0.75)\n",
    "\n",
    "ax.set_xlabel('Sumbu X')\n",
    "ax.set_ylabel('Sumbu Y')\n",
    "ax.set_title('Contoh Histogram')\n",
    "\n",
    "ax.text(45, 500, r'$\\mu=100,\\ \\sigma=15$')\n",
    "ax.grid()\n",
    "\n",
    "plt.show()"
   ]
  },
  {
   "cell_type": "code",
   "execution_count": null,
   "metadata": {},
   "outputs": [],
   "source": []
  }
 ],
 "metadata": {
  "kernelspec": {
   "display_name": "Python 3",
   "language": "python",
   "name": "python3"
  },
  "language_info": {
   "codemirror_mode": {
    "name": "ipython",
    "version": 3
   },
   "file_extension": ".py",
   "mimetype": "text/x-python",
   "name": "python",
   "nbconvert_exporter": "python",
   "pygments_lexer": "ipython3",
   "version": "3.8.5"
  }
 },
 "nbformat": 4,
 "nbformat_minor": 4
}
